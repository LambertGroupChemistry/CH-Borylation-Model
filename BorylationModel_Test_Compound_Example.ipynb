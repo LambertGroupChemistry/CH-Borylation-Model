{
 "cells": [
  {
   "cell_type": "code",
   "execution_count": 1,
   "metadata": {},
   "outputs": [],
   "source": [
    "# Import required libraries for data manipulation and analysis\n",
    "import pandas as pd\n",
    "from pandas import read_csv\n",
    "import matplotlib.pyplot as plt\n",
    "import numpy as np"
   ]
  },
  {
   "cell_type": "code",
   "execution_count": 2,
   "metadata": {},
   "outputs": [],
   "source": [
    "#Import sklearn classifiers\n",
    "from sklearn.ensemble import RandomForestClassifier"
   ]
  },
  {
   "cell_type": "code",
   "execution_count": 3,
   "metadata": {},
   "outputs": [],
   "source": [
    "#Import library to oversample \n",
    "from imblearn.over_sampling import RandomOverSampler"
   ]
  },
  {
   "cell_type": "code",
   "execution_count": 4,
   "metadata": {},
   "outputs": [],
   "source": [
    "#Import RDKit and Mordred libraries\n",
    "from rdkit import Chem\n",
    "from rdkit.Chem import Draw\n",
    "from mordred import Calculator, descriptors"
   ]
  },
  {
   "cell_type": "code",
   "execution_count": 5,
   "metadata": {},
   "outputs": [],
   "source": [
    "#Allows figures to be visualized in jupyter notebook\n",
    "%matplotlib inline"
   ]
  },
  {
   "cell_type": "code",
   "execution_count": 6,
   "metadata": {},
   "outputs": [],
   "source": [
    "#Functions used in the study\n",
    "\n",
    "#Remove those numbers from analysis data\n",
    "def filter_rows_by_values1(df, col, values):\n",
    "    return df[~df[col].isin(values)]\n",
    "\n",
    "#Remove those numbers from analysis data\n",
    "def filter_rows_by_values2(df, col, values):\n",
    "    return df[df[col].isin(values)]\n",
    "\n",
    "#Get Mordred calcs\n",
    "def get_Mordred(data_input):\n",
    "    # Assigns Reactants Mordred Info\n",
    "    reactants = data_input['Substrate']\n",
    "    \n",
    "    reactants_mol_list = []\n",
    "    for inChi_reactants in reactants:\n",
    "      reactants_mol = Chem.MolFromInchi(inChi_reactants)\n",
    "      reactants_mol_list.append(reactants_mol)\n",
    "\n",
    "    # Puts reactants into Pandas Type\n",
    "    reactant_data = []\n",
    "    reactant_data = calc.pandas(reactants_mol_list)\n",
    "       \n",
    "    #Joins Mordred parameters with experimental, atomic charges, and JChem for Excel parameters\n",
    "    add_reactants = pd.concat((data_input, reactant_data), axis=1)\n",
    "    \n",
    "    #Force any non-numeric entries as NaN and replace them with 0\n",
    "    int_data = add_reactants.apply(pd.to_numeric, errors='coerce')\n",
    "    \n",
    "    output = int_data.fillna(0)#, inplace=True)\n",
    "\n",
    "    return output\n"
   ]
  },
  {
   "cell_type": "code",
   "execution_count": 7,
   "metadata": {
    "tags": []
   },
   "outputs": [],
   "source": [
    "# Sets Pandas Display to Monitor Code\n",
    "pd.set_option('display.max_rows', 500)\n",
    "pd.set_option('display.max_columns', 100)"
   ]
  },
  {
   "cell_type": "code",
   "execution_count": 8,
   "metadata": {
    "tags": []
   },
   "outputs": [],
   "source": [
    "# Create Mordred Calculator\n",
    "calc = Calculator(descriptors, ignore_3D=True)"
   ]
  },
  {
   "cell_type": "code",
   "execution_count": 9,
   "metadata": {},
   "outputs": [],
   "source": [
    "# Read Training/Test data input File\n",
    "data = pd.read_csv('BorylationTrainingTest 1-10-25.csv')"
   ]
  },
  {
   "cell_type": "code",
   "execution_count": 10,
   "metadata": {
    "tags": []
   },
   "outputs": [],
   "source": [
    "#group the compounds by numbers\n",
    "data['grouped'] = data.groupby('Substrate', sort=False).ngroup()"
   ]
  },
  {
   "cell_type": "code",
   "execution_count": 11,
   "metadata": {
    "tags": []
   },
   "outputs": [
    {
     "name": "stderr",
     "output_type": "stream",
     "text": [
      "100%|██████████| 971/971 [01:19<00:00, 12.17it/s]\n"
     ]
    }
   ],
   "source": [
    "#Convert substrates to Mordred features\n",
    "data = get_Mordred(data)"
   ]
  },
  {
   "cell_type": "code",
   "execution_count": 12,
   "metadata": {
    "tags": []
   },
   "outputs": [
    {
     "name": "stderr",
     "output_type": "stream",
     "text": [
      "100%|██████████| 4/4 [00:00<00:00,  9.53it/s]\n"
     ]
    },
    {
     "data": {
      "text/html": [
       "<div>\n",
       "<style scoped>\n",
       "    .dataframe tbody tr th:only-of-type {\n",
       "        vertical-align: middle;\n",
       "    }\n",
       "\n",
       "    .dataframe tbody tr th {\n",
       "        vertical-align: top;\n",
       "    }\n",
       "\n",
       "    .dataframe thead th {\n",
       "        text-align: right;\n",
       "    }\n",
       "</style>\n",
       "<table border=\"1\" class=\"dataframe\">\n",
       "  <thead>\n",
       "    <tr style=\"text-align: right;\">\n",
       "      <th></th>\n",
       "      <th>Product_Ratio</th>\n",
       "      <th>1</th>\n",
       "      <th>2</th>\n",
       "      <th>3</th>\n",
       "      <th>4</th>\n",
       "      <th>5</th>\n",
       "      <th>6</th>\n",
       "      <th>7</th>\n",
       "      <th>8</th>\n",
       "      <th>9</th>\n",
       "      <th>10</th>\n",
       "    </tr>\n",
       "  </thead>\n",
       "  <tbody>\n",
       "    <tr>\n",
       "      <th>0</th>\n",
       "      <td>1</td>\n",
       "      <td>1</td>\n",
       "      <td>1</td>\n",
       "      <td>1</td>\n",
       "      <td>1</td>\n",
       "      <td>1</td>\n",
       "      <td>1</td>\n",
       "      <td>1</td>\n",
       "      <td>1</td>\n",
       "      <td>1</td>\n",
       "      <td>1</td>\n",
       "    </tr>\n",
       "    <tr>\n",
       "      <th>1</th>\n",
       "      <td>0</td>\n",
       "      <td>0</td>\n",
       "      <td>0</td>\n",
       "      <td>0</td>\n",
       "      <td>0</td>\n",
       "      <td>0</td>\n",
       "      <td>0</td>\n",
       "      <td>0</td>\n",
       "      <td>0</td>\n",
       "      <td>0</td>\n",
       "      <td>0</td>\n",
       "    </tr>\n",
       "    <tr>\n",
       "      <th>2</th>\n",
       "      <td>0</td>\n",
       "      <td>0</td>\n",
       "      <td>0</td>\n",
       "      <td>0</td>\n",
       "      <td>0</td>\n",
       "      <td>0</td>\n",
       "      <td>0</td>\n",
       "      <td>0</td>\n",
       "      <td>0</td>\n",
       "      <td>0</td>\n",
       "      <td>0</td>\n",
       "    </tr>\n",
       "    <tr>\n",
       "      <th>3</th>\n",
       "      <td>0</td>\n",
       "      <td>0</td>\n",
       "      <td>0</td>\n",
       "      <td>0</td>\n",
       "      <td>0</td>\n",
       "      <td>0</td>\n",
       "      <td>0</td>\n",
       "      <td>0</td>\n",
       "      <td>0</td>\n",
       "      <td>0</td>\n",
       "      <td>0</td>\n",
       "    </tr>\n",
       "  </tbody>\n",
       "</table>\n",
       "</div>"
      ],
      "text/plain": [
       "   Product_Ratio  1  2  3  4  5  6  7  8  9  10\n",
       "0              1  1  1  1  1  1  1  1  1  1   1\n",
       "1              0  0  0  0  0  0  0  0  0  0   0\n",
       "2              0  0  0  0  0  0  0  0  0  0   0\n",
       "3              0  0  0  0  0  0  0  0  0  0   0"
      ]
     },
     "execution_count": 12,
     "metadata": {},
     "output_type": "execute_result"
    }
   ],
   "source": [
    "final_selected_features = ['Hirshfeld Heavy Atom Charge', 'Hirshfeld Carbon Charge', 'Hirshfeld Hydrogen Charge', 'ESP Heavy Atom Charge', \n",
    "                           'ESP Hydrogen Charge', 'NPA Hydrogen Charge', 'Mulliken Heavy Charge', 'Mulliken Hydrogen Charge', \n",
    "                           'Steric Effect Index', 'Atomic_Polarizability', 'Distance Degree','Dreiding Energy',\n",
    "                           'AATS2d', 'AATS1s', 'AATS2Z', 'AATS0v', 'AATS4p', 'AATS1i', 'ATSC1d', 'ATSC2d', 'AATSC2dv', 'AATSC4d',\n",
    "                           'AATSC3Z', 'AATSC5v', 'AATSC1pe', 'MATS1c', 'MATS5s', 'MATS1p', 'GATS3c', 'GATS4c', 'GATS1v', 'GATS2pe', 'BCUTZ-1l', 'RPCG', 'FilterItLogS']\n",
    "\n",
    "#Loads validation dataset for borylation using the final reduced features \n",
    "unknownSubstrates=pd.read_csv('test_example.csv')\n",
    "\n",
    "# Convert validation substrates Inchi's to Mordred and combine into Dataframe with atomic charges and JChem paramters\n",
    "New_Substrate = unknownSubstrates['Substrate']\n",
    "New_Substrate_mol_list = []\n",
    "for inChi_New_Substrate in New_Substrate:\n",
    "  New_Substrate_mol = Chem.MolFromInchi(inChi_New_Substrate)\n",
    "  New_Substrate_mol_list.append(New_Substrate_mol)\n",
    "\n",
    "New_Substrate_data = []\n",
    "New_Substrate_data = calc.pandas(New_Substrate_mol_list)\n",
    "New_Substrate_data = New_Substrate_data.apply(pd.to_numeric, errors='coerce')\n",
    "New_Substrate_data.fillna(0, inplace=True)                                                                  \n",
    "XnewSec = pd.concat((unknownSubstrates, New_Substrate_data), axis=1)\n",
    "Xnew = XnewSec[final_selected_features]\n",
    "\n",
    "val_tot = pd.DataFrame()\n",
    "\n",
    "for_range = range(1, 11)\n",
    "for x in for_range:\n",
    "    #Get numbers to represent compounds\n",
    "    arr = np.arange(0, 188,  dtype=int)\n",
    "\n",
    "    #Get 20% of numbers, without replacement\n",
    "    set_numbers = np.random.choice(arr, int(len(arr)*0.20), replace=False ) \n",
    "    \n",
    "    #Seperate training (80%) and test data (20%)\n",
    "    training_data = filter_rows_by_values1(data, \"grouped\", set_numbers)\n",
    "    test_data = filter_rows_by_values2(data, \"grouped\", set_numbers)\n",
    "   \n",
    "    # Seperate dataset as response variable (Product Ratio) and feature variables\n",
    "    #Note: Product Ratio is described as \"0\" for non-borylating sites and \"1\" for borylating sites\n",
    "    training_X = training_data.drop('Product_Ratio' , axis = 1)\n",
    "    training_y = training_data['Product_Ratio']\n",
    "    test_X = test_data.drop('Product_Ratio' , axis = 1)\n",
    "    test_y = test_data['Product_Ratio']\n",
    "   \n",
    "    #Apply over-sampling to training set\n",
    "    ros = RandomOverSampler(random_state=10)\n",
    "    X_resampled, y_resampled = ros.fit_resample(training_X, training_y)    \n",
    "    X_train = X_resampled[final_selected_features]\n",
    "\n",
    "    #Random Forest Classifier\n",
    "    rfc = RandomForestClassifier(n_estimators=800,max_depth=9)\n",
    "    rfc.fit(X_train, y_resampled)\n",
    "    \n",
    "    #Evaluate the model on validation set\n",
    "    ynew = rfc.predict(Xnew)\n",
    "    validation_prediction_df = pd.DataFrame(ynew, columns = [(x)])\n",
    "    validation_prediction_df.merge(validation_prediction_df, on=x)\n",
    "    val_pred_T = validation_prediction_df.T\n",
    "    val_tot = val_tot.append(val_pred_T)        \n",
    "\n",
    "#Print the validation evaluations for model\n",
    "unknownSubstrates_prod = unknownSubstrates['Product_Ratio']\n",
    "total_val_results_transposed = val_tot.T\n",
    "Val_results = pd.concat((unknownSubstrates_prod, total_val_results_transposed), axis=1)\n",
    "\n",
    "#Write the results onto a CSV file \n",
    "\n",
    "Val_results.to_csv(\"test_CompoundEvaluation.csv\", index=False)\n",
    "Val_results"
   ]
  }
 ],
 "metadata": {
  "kernelspec": {
   "display_name": "Python 3 (ipykernel)",
   "language": "python",
   "name": "python3"
  },
  "language_info": {
   "codemirror_mode": {
    "name": "ipython",
    "version": 3
   },
   "file_extension": ".py",
   "mimetype": "text/x-python",
   "name": "python",
   "nbconvert_exporter": "python",
   "pygments_lexer": "ipython3",
   "version": "3.7.13"
  }
 },
 "nbformat": 4,
 "nbformat_minor": 4
}
